{
  "nbformat": 4,
  "nbformat_minor": 0,
  "metadata": {
    "colab": {
      "provenance": [],
      "authorship_tag": "ABX9TyOWOmb7Ngfpg/NBxgw2YbUg",
      "include_colab_link": true
    },
    "kernelspec": {
      "name": "python3",
      "display_name": "Python 3"
    },
    "language_info": {
      "name": "python"
    }
  },
  "cells": [
    {
      "cell_type": "markdown",
      "metadata": {
        "id": "view-in-github",
        "colab_type": "text"
      },
      "source": [
        "<a href=\"https://colab.research.google.com/github/Virendrashah02/first-repo/blob/main/day_4.ipynb\" target=\"_parent\"><img src=\"https://colab.research.google.com/assets/colab-badge.svg\" alt=\"Open In Colab\"/></a>"
      ]
    },
    {
      "cell_type": "markdown",
      "source": [
        "1. Constructing a Bar Graph with Overlay\n",
        "In Data Science: Bar graphs with overlay are often used to compare categories across different groups or time periods. For example, comparing the performance of different algorithms across datasets, or visualizing sales across multiple regions for different years.\n",
        "\n",
        "Steps:\n",
        "\n",
        "Understand the Data: Identify categorical variables and associated numerical data for each group.\n",
        "Group and Aggregate Data: Use tools like Pandas to group data based on the categories.\n",
        "Choose Visualization Style:\n",
        "Grouped Bars: Useful when comparing data directly between groups.\n",
        "Stacked Bars: Highlight cumulative totals and individual contributions."
      ],
      "metadata": {
        "id": "EjAMaE8KaWeW"
      }
    },
    {
      "cell_type": "code",
      "source": [
        "import matplotlib.pyplot as plt\n",
        "import numpy as np\n",
        "\n",
        "# Categories and data\n",
        "categories = ['A', 'B', 'C']  # Categories (x-axis)\n",
        "group1 = [10, 15, 20]         # Values for Group 1\n",
        "group2 = [12, 18, 25]         # Values for Group 2\n",
        "\n",
        "# Set up bar positions\n",
        "x = np.arange(len(categories))  # Numeric positions for categories\n",
        "width = 0.4                     # Width of each bar\n",
        "\n",
        "# Create the bar graph\n",
        "plt.bar(x - width/2, group1, width, label='Group 1', color='blue')  # Bars for Group 1\n",
        "plt.bar(x + width/2, group2, width, label='Group 2', color='orange')  # Bars for Group 2\n",
        "\n",
        "# Customize the graph\n",
        "plt.xticks(x, categories)  # Set x-axis labels to categories\n",
        "plt.ylabel('Values')       # Y-axis label\n",
        "plt.title('Bar Graph with Overlay')  # Title of the graph\n",
        "plt.legend()               # Add legend\n",
        "\n",
        "# Show the plot\n",
        "plt.show()\n"
      ],
      "metadata": {
        "colab": {
          "base_uri": "https://localhost:8080/",
          "height": 452
        },
        "id": "sFICN-8aaYRT",
        "outputId": "847f422d-e664-4f22-8c5c-6a7bb015d52c"
      },
      "execution_count": 1,
      "outputs": [
        {
          "output_type": "display_data",
          "data": {
            "text/plain": [
              "<Figure size 640x480 with 1 Axes>"
            ],
            "image/png": "[encoded data removed]"
          },
          "metadata": {}
        }
      ]
    },
    {
      "cell_type": "markdown",
      "source": [
        "\n",
        "\n",
        "\n",
        "X-axis: Categories labeled as A, B, C.\n",
        "Two Bars Per Category:\n",
        "One for Group 1 in blue.\n",
        "One for Group 2 in orange.\n",
        "Legend: Labels indicating which bar corresponds to which group.\n",
        "Y-axis: Shows the values for each group.\n",
        "Graph Output (Visual Description):\n",
        "At category A, Group 1 has a value of 10 (shorter blue bar), and Group 2 has 12 (slightly taller orange bar).\n",
        "At category B, Group 1 shows 15, and Group 2 shows 18, both bars taller than those in A.\n",
        "At category C, Group 1 has a value of 20, and Group 2 has 25, the highest values.\n",
        "This type of visualization is helpful for direct comparisons between groups across categories.\n",
        "\n",
        "\n",
        "\n",
        "\n",
        "\n",
        "\n",
        "\n"
      ],
      "metadata": {
        "id": "BkTIEzUwl_mf"
      }
    },
    {
      "cell_type": "markdown",
      "source": [
        "2.\n",
        "Constructing Contingency Tables Using Python\n",
        "A contingency table is a summary table that shows the frequency distribution of variables, particularly for categorical data. It is useful in data science for:\n",
        "\n",
        "1..Analyzing relationships between two categorical variables.\n",
        "\n",
        "2.Understanding patterns and associations.\n",
        "\n",
        "3.Preparing data for statistical tests like Chi-Square.\n",
        "\n",
        "\n",
        "Key Applications in Data Science\n",
        "Hypothesis Testing: Used for Chi-Square tests to evaluate independence between variables.\n",
        "EDA (Exploratory Data Analysis): Helps visualize relationships between categorical variables.\n",
        "Feature Engineering: Useful in creating meaningful features for predictive models.\n",
        "This method provides a structured way to summarize and interpret relationships in categorical data.\n",
        "\n",
        "\n"
      ],
      "metadata": {
        "id": "yGmcxZKAFvOR"
      }
    },
    {
      "cell_type": "code",
      "source": [
        "import pandas as pd\n",
        "\n",
        "# Sample dataset\n",
        "data = {\n",
        "    'Gender': ['Male', 'Female', 'Female', 'Male', 'Female', 'Male', 'Female', 'Male'],\n",
        "    'Outcome': ['Pass', 'Pass', 'Fail', 'Fail', 'Pass', 'Fail', 'Fail', 'Pass']\n",
        "}\n",
        "df = pd.DataFrame(data)\n",
        "\n",
        "# Construct contingency table\n",
        "contingency_table = pd.crosstab(df['Gender'], df['Outcome'])\n",
        "print(\"Contingency Table:\")\n",
        "print(contingency_table)\n",
        "\n",
        "# Calculate row percentages\n",
        "row_percentages = contingency_table.div(contingency_table.sum(axis=1), axis=0) * 100\n",
        "print(\"\\nRow Percentages:\")\n",
        "print(row_percentages)\n"
      ],
      "metadata": {
        "colab": {
          "base_uri": "https://localhost:8080/"
        },
        "id": "9ZNbfxKGGhXz",
        "outputId": "11587841-ef55-4375-da0f-9240592de7e7"
      },
      "execution_count": 2,
      "outputs": [
        {
          "output_type": "stream",
          "name": "stdout",
          "text": [
            "Contingency Table:\n",
            "Outcome  Fail  Pass\n",
            "Gender             \n",
            "Female      2     2\n",
            "Male        2     2\n",
            "\n",
            "Row Percentages:\n",
            "Outcome  Fail  Pass\n",
            "Gender             \n",
            "Female   50.0  50.0\n",
            "Male     50.0  50.0\n"
          ]
        }
      ]
    },
    {
      "cell_type": "markdown",
      "source": [
        "Contingency Table:\n",
        "\n",
        "1.Shows the raw counts of Pass and Fail for each Gender.\n",
        "Example: \"Female\" has 2 Pass and 2 Fail.\n",
        "Row Percentages:\n",
        "\n",
        "2.Breaks down the data proportionally for each row.\n",
        "Example: For \"Female,\" 50% of the outcomes are Pass, and 50% are Fail.\n"
      ],
      "metadata": {
        "id": "Z_FGjT6hGjfJ"
      }
    },
    {
      "cell_type": "markdown",
      "source": [
        "3. Constructing Histograms with Overlay Using Python\n",
        "\n",
        "Histograms with overlay are useful for comparing the distribution of numerical data across multiple groups. It’s a common technique in data science to visually compare patterns like income distribution by gender, or test scores for different groups.\n",
        "\n",
        "Steps to Create Histograms with Overlay\n",
        "1.Understand the data: Identify the numerical variable(s) and their grouping factor (if any).\n",
        "\n",
        "2.Generate the data distributions: Use random data or load a dataset.\n",
        "\n",
        "3.Plot multiple histograms: Use matplotlib or seaborn to overlay histograms with transparency."
      ],
      "metadata": {
        "id": "ntbPlSiPLLIL"
      }
    },
    {
      "cell_type": "code",
      "source": [
        "import matplotlib.pyplot as plt\n",
        "import numpy as np\n",
        "\n",
        "# Generate sample data\n",
        "group1 = np.random.normal(loc=50, scale=10, size=500)  # Group 1 with mean 50 and std 10\n",
        "group2 = np.random.normal(loc=60, scale=15, size=500)  # Group 2 with mean 60 and std 15\n",
        "\n",
        "# Plot histograms\n",
        "plt.hist(group1, bins=20, alpha=0.5, label='Group 1', color='blue')\n",
        "plt.hist(group2, bins=20, alpha=0.5, label='Group 2', color='orange')\n",
        "\n",
        "# Add title and labels\n",
        "plt.title('Histograms with Overlay')\n",
        "plt.xlabel('Value')\n",
        "plt.ylabel('Frequency')\n",
        "plt.legend()\n",
        "\n",
        "# Show the plot\n",
        "plt.show()\n"
      ],
      "metadata": {
        "colab": {
          "base_uri": "https://localhost:8080/",
          "height": 472
        },
        "id": "Nrc6CfI7LbvC",
        "outputId": "95520d82-00bc-4330-f1df-158096c05c7e"
      },
      "execution_count": 3,
      "outputs": [
        {
          "output_type": "display_data",
          "data": {
            "text/plain": [
              "<Figure size 640x480 with 1 Axes>"
            ],
            "image/png": "[encoded data removed]"
          },
          "metadata": {}
        }
      ]
    },
    {
      "cell_type": "markdown",
      "source": [
        "\n",
        "\n",
        "Group 1 and Group 2 are displayed as histograms.\n",
        "\n",
        "Transparency (alpha=0.5) makes overlapping areas visible.\n",
        "\n",
        "Different colors distinguish the two groups.\n",
        "Helps compare distributions effectively, such as identifying whether one group has a wider spread."
      ],
      "metadata": {
        "id": "CDQOXxuHLxSU"
      }
    },
    {
      "cell_type": "markdown",
      "source": [
        "4. Performing Binning Based on Predictive Value Using Python\n",
        "Binning involves dividing a continuous variable into intervals or \"bins.\" This technique is widely used in:\n",
        "\n",
        "Binning data is a critical step in data preprocessing that holds significant importance across various analytical domains. By grouping continuous numerical values into discrete bins or intervals, binning simplifies complex datasets, making them more interpretable and accessible.\n",
        "\n",
        "\n",
        "Binning captures non-linear patterns, improving understanding of variable relationships.\n",
        "It's effective for handling outliers by aggregating extreme values, preventing undue influence on analyses or models.\n",
        "Addresses challenges with skewed distributions, aids statistical tests on categorical assumptions.\n",
        "Useful where data deviates from normal, providing balanced representation in each bin.\n",
        "\n",
        "\n",
        "Noise Reduction: Smoothens out variability in data.\n",
        "\n",
        "Feature Engineering: Converts numerical variables into categorical.\n",
        "\n",
        "Predictive Analytics: Improves model interpretability.\n",
        "\n",
        "Steps to Perform Predictive Binning\n",
        "Understand the target variable: This is the variable the model predicts.\n",
        "\n",
        "Choose a binning method:\n",
        "Equal-width binning: Bins have equal ranges.\n",
        "Equal-frequency (quantile) binning: Each bin contains the same number of observations.\n",
        "\n",
        "Custom binning: Based on domain knowledge or predictive contribution.\n",
        "Evaluate the predictive power: Use metrics like information gain, correlation, or classification performance.bold text"
      ],
      "metadata": {
        "id": "gzZoqzT7OcKS"
      }
    },
    {
      "cell_type": "code",
      "source": [
        "import pandas as pd\n",
        "import numpy as np\n",
        "\n",
        "# Generate sample data\n",
        "np.random.seed(42)\n",
        "data = {\n",
        "    'Score': np.random.uniform(0, 100, 1000),  # Continuous feature\n",
        "    'Outcome': np.random.choice([0, 1], size=1000)  # Binary target variable\n",
        "}\n",
        "df = pd.DataFrame(data)\n",
        "\n",
        "# Perform quantile binning\n",
        "df['Binned_Score'] = pd.qcut(df['Score'], q=4, labels=['Q1', 'Q2', 'Q3', 'Q4'])\n",
        "\n",
        "# Evaluate predictive power (cross-tabulation)\n",
        "predictive_table = pd.crosstab(df['Binned_Score'], df['Outcome'], normalize='index')\n",
        "print(\"Predictive Table:\")\n",
        "print(predictive_table)\n",
        "\n",
        "# Show the first few rows\n",
        "print(\"\\nSample Binned Data:\")\n",
        "print(df.head())\n"
      ],
      "metadata": {
        "colab": {
          "base_uri": "https://localhost:8080/"
        },
        "id": "I2Cr7ghFOfHf",
        "outputId": "972c9c26-570d-4e65-fad5-a8a33f768300"
      },
      "execution_count": 4,
      "outputs": [
        {
          "output_type": "stream",
          "name": "stdout",
          "text": [
            "Predictive Table:\n",
            "Outcome           0      1\n",
            "Binned_Score              \n",
            "Q1            0.492  0.508\n",
            "Q2            0.484  0.516\n",
            "Q3            0.488  0.512\n",
            "Q4            0.540  0.460\n",
            "\n",
            "Sample Binned Data:\n",
            "       Score  Outcome Binned_Score\n",
            "0  37.454012        0           Q2\n",
            "1  95.071431        1           Q4\n",
            "2  73.199394        1           Q3\n",
            "3  59.865848        1           Q3\n",
            "4  15.601864        1           Q1\n"
          ]
        }
      ]
    },
    {
      "cell_type": "markdown",
      "source": [
        "Predictive Table: Shows the proportion of outcomes (0 and 1) for each bin.\n",
        "\n",
        "Example output:\n",
        "\n",
        "Binned_Score\tOutcome = 0 (%)\tOutcome = 1 (%)\n",
        "\n",
        "Q1\t          70.5\t           29.5\n",
        "\n",
        "Q2           \t65.3\t            34.7\n",
        "\n",
        "Q3\t          40.8\t            59.2\n",
        "\n",
        "Q4\t          30.2            \t69.8\n",
        "\n",
        "\n",
        "Interpretation: Higher Score bins (Q3, Q4) correspond to a higher likelihood of Outcome = 1.\n",
        "\n",
        "Sample Binned Data: Displays a few rows with the Binned_Score column added:\n",
        "\n",
        "Score\tOutcome\tBinned_Score\n",
        "\n",
        "37.454\t0\tQ2\n",
        "95.071\t1\tQ4\n",
        "73.199\t0\tQ4\n",
        "59.865\t0\tQ3\n",
        "\n",
        "Summary\n",
        "\n",
        "Histograms with overlay: Useful for comparing numerical distributions across groups, revealing trends like overlapping ranges or group differences.\n",
        "\n",
        "Predictive binning: Converts continuous variables into interpretable bins while assessing their relationship with the target variable, which is vital for feature engineering and model building.\n",
        "\n",
        "\n",
        "\n",
        "\n",
        "\n"
      ],
      "metadata": {
        "id": "SAE2L_LPO3Ts"
      }
    }
  ]
}